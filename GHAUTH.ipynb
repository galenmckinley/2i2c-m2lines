{
 "cells": [
  {
   "cell_type": "code",
   "execution_count": 1,
   "id": "dfe2df7e-b3d4-4e69-bc23-d2cd800d5b50",
   "metadata": {},
   "outputs": [
    {
     "data": {
      "application/javascript": [
       "navigator.clipboard.writeText(\"29E6-2A08\");"
      ],
      "text/plain": [
       "<IPython.core.display.Javascript object>"
      ]
     },
     "metadata": {},
     "output_type": "display_data"
    },
    {
     "name": "stdout",
     "output_type": "stream",
     "text": [
      "The code 29E6-2A08 has been copied to your clipboard.\n",
      "You have 15 minutes to go to https://github.com/login/device and paste it there.\n",
      "\n",
      "Waiting.......\n"
     ]
    },
    {
     "data": {
      "text/html": [
       "<p style=\"background-color:lightgreen;\">Success! Authentication will expire in 8.0 hours.<br /></p>"
      ],
      "text/plain": [
       "<IPython.core.display.HTML object>"
      ]
     },
     "metadata": {},
     "output_type": "display_data"
    },
    {
     "name": "stdout",
     "output_type": "stream",
     "text": [
      "Visit https://github.com/apps/leap-hub-push-access to manage list of repositories you can push to from this location\n",
      "Tip: Use https:// URLs to clone and push to repos, not ssh URLs!\n"
     ]
    }
   ],
   "source": [
    "import gh_scoped_creds\n",
    "%ghscopedcreds"
   ]
  },
  {
   "cell_type": "code",
   "execution_count": null,
   "id": "df72967a-2d86-4f0e-af54-70c30af5580c",
   "metadata": {},
   "outputs": [],
   "source": []
  }
 ],
 "metadata": {
  "kernelspec": {
   "display_name": "Python 3 (ipykernel)",
   "language": "python",
   "name": "python3"
  },
  "language_info": {
   "codemirror_mode": {
    "name": "ipython",
    "version": 3
   },
   "file_extension": ".py",
   "mimetype": "text/x-python",
   "name": "python",
   "nbconvert_exporter": "python",
   "pygments_lexer": "ipython3",
   "version": "3.9.13"
  }
 },
 "nbformat": 4,
 "nbformat_minor": 5
}
